{
 "cells": [
  {
   "cell_type": "code",
   "execution_count": 1,
   "metadata": {},
   "outputs": [],
   "source": [
    "import os\n",
    "import igraph\n",
    "import numpy as np\n",
    "import pandas as pd\n",
    "from functools import reduce\n",
    "from multiprocessing import Pool"
   ]
  },
  {
   "cell_type": "code",
   "execution_count": null,
   "metadata": {},
   "outputs": [],
   "source": []
  },
  {
   "cell_type": "code",
   "execution_count": 13,
   "metadata": {},
   "outputs": [],
   "source": [
    "input_path = './'\n",
    "sample_train = pd.read_table(os.path.join(input_path, \"open_data/sample_train.txt\"))  # 训练集约1.9万\n",
    "valid_id = pd.read_table(os.path.join(input_path, \"open_data/valid_id.txt\"))  # 验证集\n",
    "test_id = pd.read_table(os.path.join(input_path, \"open_data/test_id.txt\"))  # 测试集\n",
    "son = pd.read_csv('./output/son.csv')\n",
    "father = pd.read_csv('./output/father.csv')\n",
    "\n",
    "feature_9_df = pd.read_csv('./output/one_step_id_feature_agg.csv')\n",
    "\n",
    "son = son[['id', 'to_id', 'weight_sum']]\n",
    "father = father[['id', 'from_id', 'weight_sum']]\n",
    "\n",
    "all_id = pd.concat([sample_train[['id']], valid_id[['id']], test_id[['id']]], axis=0)"
   ]
  },
  {
   "cell_type": "code",
   "execution_count": 14,
   "metadata": {},
   "outputs": [],
   "source": [
    "all_id.sort_values(by='id', inplace=True)\n",
    "all_id.reset_index(drop=True, inplace=True)"
   ]
  },
  {
   "cell_type": "code",
   "execution_count": 16,
   "metadata": {},
   "outputs": [
    {
     "data": {
      "text/plain": [
       "(3173091, 137)"
      ]
     },
     "execution_count": 16,
     "metadata": {},
     "output_type": "execute_result"
    }
   ],
   "source": [
    "feature_9_df.shape"
   ]
  },
  {
   "cell_type": "code",
   "execution_count": 17,
   "metadata": {},
   "outputs": [],
   "source": [
    "feature_9_df_id = feature_9_df['id']\n",
    "feature_9_df_core = feature_9_df.drop('id', axis=1)\n",
    "\n",
    "feature_9_df_son = feature_9_df_core.copy()\n",
    "feature_9_df_son['to_id'] = feature_9_df_id\n",
    "\n",
    "feature_9_df_father = feature_9_df_core.copy()\n",
    "feature_9_df_father['from_id'] = feature_9_df_id\n",
    "\n",
    "del(feature_9_df)"
   ]
  },
  {
   "cell_type": "code",
   "execution_count": 18,
   "metadata": {},
   "outputs": [
    {
     "name": "stdout",
     "output_type": "stream",
     "text": [
      "<class 'pandas.core.frame.DataFrame'>\n",
      "RangeIndex: 3173091 entries, 0 to 3173090\n",
      "Columns: 137 entries, between_directed to from_id\n",
      "dtypes: float64(129), int64(8)\n",
      "memory usage: 3.2 GB\n"
     ]
    }
   ],
   "source": [
    "feature_9_df_father.info()"
   ]
  },
  {
   "cell_type": "code",
   "execution_count": 19,
   "metadata": {},
   "outputs": [],
   "source": [
    "son_feature_9 = pd.merge(son, feature_9_df_son, on='to_id', how='inner')\n",
    "del(feature_9_df_son)"
   ]
  },
  {
   "cell_type": "code",
   "execution_count": 20,
   "metadata": {},
   "outputs": [],
   "source": [
    "father_feature_9 = pd.merge(father, feature_9_df_father, on='from_id', how='inner')\n",
    "del(feature_9_df_father)"
   ]
  },
  {
   "cell_type": "code",
   "execution_count": 21,
   "metadata": {},
   "outputs": [],
   "source": [
    "son_feature_9.sort_values(by='id', inplace=True)\n",
    "father_feature_9.sort_values(by='id', inplace=True)\n",
    "\n",
    "son_feature_9.reset_index(drop=True, inplace=True)\n",
    "father_feature_9.reset_index(drop=True, inplace=True)"
   ]
  },
  {
   "cell_type": "code",
   "execution_count": null,
   "metadata": {},
   "outputs": [],
   "source": []
  },
  {
   "cell_type": "code",
   "execution_count": null,
   "metadata": {},
   "outputs": [],
   "source": []
  },
  {
   "cell_type": "code",
   "execution_count": 22,
   "metadata": {},
   "outputs": [],
   "source": [
    "son_id_counts = son_feature_9['id'].value_counts(sort=False).sort_index().cumsum()\n",
    "id_loc_info_son = pd.DataFrame({'id': list(son_id_counts.index),\n",
    "                                'start_son': [0] + list(son_id_counts.values)[:-1],\n",
    "                                'stop_son': list(son_id_counts.values)})\n",
    "\n",
    "father_id_counts = father_feature_9['id'].value_counts(sort=False).sort_index().cumsum()\n",
    "id_loc_info_father = pd.DataFrame({'id': list(father_id_counts.index),\n",
    "                                   'start_father': [0] + list(father_id_counts.values)[:-1],\n",
    "                                   'stop_father': list(father_id_counts.values)})"
   ]
  },
  {
   "cell_type": "code",
   "execution_count": 23,
   "metadata": {},
   "outputs": [],
   "source": [
    "id_loc_info_both = pd.merge(id_loc_info_son, id_loc_info_father, on='id', how='outer')\n",
    "id_loc_info_both = id_loc_info_both[['id', 'start_son', 'stop_son', 'start_father', 'stop_father']]"
   ]
  },
  {
   "cell_type": "code",
   "execution_count": 24,
   "metadata": {},
   "outputs": [],
   "source": [
    "id_loc_info_both.fillna(0, inplace=True)"
   ]
  },
  {
   "cell_type": "code",
   "execution_count": 25,
   "metadata": {},
   "outputs": [
    {
     "data": {
      "text/html": [
       "<div>\n",
       "<style scoped>\n",
       "    .dataframe tbody tr th:only-of-type {\n",
       "        vertical-align: middle;\n",
       "    }\n",
       "\n",
       "    .dataframe tbody tr th {\n",
       "        vertical-align: top;\n",
       "    }\n",
       "\n",
       "    .dataframe thead th {\n",
       "        text-align: right;\n",
       "    }\n",
       "</style>\n",
       "<table border=\"1\" class=\"dataframe\">\n",
       "  <thead>\n",
       "    <tr style=\"text-align: right;\">\n",
       "      <th></th>\n",
       "      <th>id</th>\n",
       "      <th>start_son</th>\n",
       "      <th>stop_son</th>\n",
       "      <th>start_father</th>\n",
       "      <th>stop_father</th>\n",
       "    </tr>\n",
       "  </thead>\n",
       "  <tbody>\n",
       "    <tr>\n",
       "      <th>0</th>\n",
       "      <td>863</td>\n",
       "      <td>0.0</td>\n",
       "      <td>1.0</td>\n",
       "      <td>0.0</td>\n",
       "      <td>1.0</td>\n",
       "    </tr>\n",
       "    <tr>\n",
       "      <th>1</th>\n",
       "      <td>3699</td>\n",
       "      <td>1.0</td>\n",
       "      <td>8.0</td>\n",
       "      <td>1.0</td>\n",
       "      <td>18.0</td>\n",
       "    </tr>\n",
       "    <tr>\n",
       "      <th>2</th>\n",
       "      <td>4292</td>\n",
       "      <td>8.0</td>\n",
       "      <td>136.0</td>\n",
       "      <td>18.0</td>\n",
       "      <td>226.0</td>\n",
       "    </tr>\n",
       "    <tr>\n",
       "      <th>3</th>\n",
       "      <td>4404</td>\n",
       "      <td>136.0</td>\n",
       "      <td>139.0</td>\n",
       "      <td>226.0</td>\n",
       "      <td>521.0</td>\n",
       "    </tr>\n",
       "    <tr>\n",
       "      <th>4</th>\n",
       "      <td>5841</td>\n",
       "      <td>139.0</td>\n",
       "      <td>267.0</td>\n",
       "      <td>521.0</td>\n",
       "      <td>523.0</td>\n",
       "    </tr>\n",
       "  </tbody>\n",
       "</table>\n",
       "</div>"
      ],
      "text/plain": [
       "     id  start_son  stop_son  start_father  stop_father\n",
       "0   863        0.0       1.0           0.0          1.0\n",
       "1  3699        1.0       8.0           1.0         18.0\n",
       "2  4292        8.0     136.0          18.0        226.0\n",
       "3  4404      136.0     139.0         226.0        521.0\n",
       "4  5841      139.0     267.0         521.0        523.0"
      ]
     },
     "execution_count": 25,
     "metadata": {},
     "output_type": "execute_result"
    }
   ],
   "source": [
    "id_loc_info_both.head()"
   ]
  },
  {
   "cell_type": "code",
   "execution_count": null,
   "metadata": {},
   "outputs": [],
   "source": []
  },
  {
   "cell_type": "code",
   "execution_count": 26,
   "metadata": {},
   "outputs": [],
   "source": [
    "id_loc_s = list(id_loc_info_both.values)"
   ]
  },
  {
   "cell_type": "code",
   "execution_count": 46,
   "metadata": {},
   "outputs": [],
   "source": [
    "def cal_mean_feature(id_loc):\n",
    "    one_step_feature_son = son_feature_9[int(id_loc[1]):int(id_loc[2])].drop(['id', 'to_id'], axis=1)\n",
    "    one_step_feature_father = father_feature_9[int(id_loc[3]):int(id_loc[4])].drop(['id', 'from_id'], axis=1)\n",
    "    \n",
    "    one_step_feature_both = pd.concat([one_step_feature_son, one_step_feature_father], axis=0, ignore_index=True)\n",
    "    if len(one_step_feature_both) == 0:\n",
    "        return [np.nan] * (father_feature_9.shape[1] - 3)\n",
    "    \n",
    "    one_step_feature_both_core = one_step_feature_both.drop('weight_sum', axis=1)\n",
    "    weight = np.log(one_step_feature_both['weight_sum'] + 1.01)\n",
    "    \n",
    "    def weighted_sum(x):\n",
    "        return np.nansum(x * weight)\n",
    "    \n",
    "    mean_feature = one_step_feature_both_core.apply(weighted_sum, axis=0)\n",
    "    \n",
    "    return list(mean_feature)"
   ]
  },
  {
   "cell_type": "code",
   "execution_count": 47,
   "metadata": {},
   "outputs": [
    {
     "name": "stdout",
     "output_type": "stream",
     "text": [
      "CPU times: user 756 ms, sys: 2.57 s, total: 3.33 s\n",
      "Wall time: 1min 28s\n"
     ]
    }
   ],
   "source": [
    "%%time\n",
    "with Pool(20) as p:\n",
    "    one_step_features = p.map(cal_mean_feature, id_loc_s)"
   ]
  },
  {
   "cell_type": "code",
   "execution_count": 48,
   "metadata": {},
   "outputs": [],
   "source": [
    "one_step_feature_df = pd.DataFrame(one_step_features, columns=father_feature_9.columns.drop(['id', 'from_id', 'weight_sum']))"
   ]
  },
  {
   "cell_type": "code",
   "execution_count": 49,
   "metadata": {},
   "outputs": [],
   "source": [
    "one_step_feature_df.columns = ['one_step_%s' % x for x in one_step_feature_df.columns]\n",
    "one_step_feature_df['id'] = id_loc_info_both['id']"
   ]
  },
  {
   "cell_type": "code",
   "execution_count": 50,
   "metadata": {},
   "outputs": [],
   "source": [
    "one_step_feature_df.to_csv('./output/one_step_feature_df.csv', index=False)"
   ]
  },
  {
   "cell_type": "code",
   "execution_count": null,
   "metadata": {},
   "outputs": [],
   "source": []
  },
  {
   "cell_type": "code",
   "execution_count": null,
   "metadata": {},
   "outputs": [],
   "source": []
  },
  {
   "cell_type": "code",
   "execution_count": null,
   "metadata": {},
   "outputs": [],
   "source": []
  },
  {
   "cell_type": "code",
   "execution_count": null,
   "metadata": {},
   "outputs": [],
   "source": []
  },
  {
   "cell_type": "code",
   "execution_count": null,
   "metadata": {},
   "outputs": [],
   "source": []
  },
  {
   "cell_type": "markdown",
   "metadata": {},
   "source": [
    "### 开始测试这个数据的预测能力"
   ]
  },
  {
   "cell_type": "code",
   "execution_count": 6,
   "metadata": {},
   "outputs": [],
   "source": [
    "import os\n",
    "import numpy as np\n",
    "import pandas as pd\n",
    "import matplotlib.pyplot as plt\n",
    "\n",
    "import xgboost as xgb\n",
    "from sklearn import metrics\n",
    "from sklearn.model_selection import train_test_split\n",
    "from sklearn.model_selection import GridSearchCV\n",
    "from sklearn.model_selection import cross_val_score"
   ]
  },
  {
   "cell_type": "code",
   "execution_count": 51,
   "metadata": {},
   "outputs": [],
   "source": [
    "input_path = './'\n",
    "sample_train = pd.read_table(os.path.join(input_path, \"open_data/sample_train.txt\"))  # 训练集约1.9万\n",
    "valid_id = pd.read_table(os.path.join(input_path, \"open_data/valid_id.txt\"))  # 验证集\n",
    "test_id = pd.read_table(os.path.join(input_path, \"open_data/test_id.txt\"))  # 测试集\n",
    "\n",
    "one_step_feature_df = pd.read_csv('./output/one_step_feature_df_log.csv')"
   ]
  },
  {
   "cell_type": "code",
   "execution_count": 52,
   "metadata": {},
   "outputs": [],
   "source": [
    "one_df = pd.merge(sample_train, one_step_feature_df, on='id')\n",
    "\n",
    "data = one_df.drop(['id', 'label'], axis=1)\n",
    "label = one_df['label']"
   ]
  },
  {
   "cell_type": "code",
   "execution_count": null,
   "metadata": {},
   "outputs": [],
   "source": []
  },
  {
   "cell_type": "code",
   "execution_count": 53,
   "metadata": {},
   "outputs": [
    {
     "name": "stdout",
     "output_type": "stream",
     "text": [
      "0.6402650931757925\n"
     ]
    }
   ],
   "source": [
    "params = {'booster': 'gbtree', 'objective': 'binary:logistic', 'eval_metric': 'auc',\n",
    "          'seed': 0, 'silent': 1, 'min_child_weight': 4, 'max_depth': 4, 'subsample': 0.8,\n",
    "          'colsample_bytree': 0.8, 'learning_rate': 0.04, 'reg_lambda': 1.1,\n",
    "          'n_estimators': 100, 'scale_pos_weight': 1}\n",
    "xgb_model = xgb.XGBClassifier(**params)\n",
    "\n",
    "scores = cross_val_score(xgb_model, data, label, cv=5, scoring='roc_auc', n_jobs=20)\n",
    "mean_score = np.mean(scores)\n",
    "print(mean_score)"
   ]
  },
  {
   "cell_type": "markdown",
   "metadata": {},
   "source": [
    "用原始的权重得到的AUC是 : 0.6445896764865404\n",
    "\n",
    "用取对数的权重得到的AUC是 : 0.6473178454941717\n",
    "\n",
    "用取根号的权重得到的AUC是: 0.6470420658498279\n",
    "\n",
    "用等权重得到AUC是 : 0.6402650931757925"
   ]
  },
  {
   "cell_type": "code",
   "execution_count": null,
   "metadata": {},
   "outputs": [],
   "source": []
  },
  {
   "cell_type": "code",
   "execution_count": null,
   "metadata": {},
   "outputs": [],
   "source": []
  },
  {
   "cell_type": "code",
   "execution_count": null,
   "metadata": {},
   "outputs": [],
   "source": []
  },
  {
   "cell_type": "code",
   "execution_count": null,
   "metadata": {},
   "outputs": [],
   "source": []
  }
 ],
 "metadata": {
  "kernelspec": {
   "display_name": "Python 3",
   "language": "python",
   "name": "python3"
  },
  "language_info": {
   "codemirror_mode": {
    "name": "ipython",
    "version": 3
   },
   "file_extension": ".py",
   "mimetype": "text/x-python",
   "name": "python",
   "nbconvert_exporter": "python",
   "pygments_lexer": "ipython3",
   "version": "3.6.4"
  }
 },
 "nbformat": 4,
 "nbformat_minor": 2
}
